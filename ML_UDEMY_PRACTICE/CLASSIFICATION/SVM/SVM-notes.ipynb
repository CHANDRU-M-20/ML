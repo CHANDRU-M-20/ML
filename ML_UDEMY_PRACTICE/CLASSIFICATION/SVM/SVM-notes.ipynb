{
 "cells": [
  {
   "cell_type": "code",
   "execution_count": 1,
   "id": "4e2f56c3",
   "metadata": {},
   "outputs": [],
   "source": [
    "# Maximum margin - Line\n",
    "# Hyperplan - > positive hyperplan and negative hyperplan\n",
    "# model - entier pipline (negative hyperplan to positive hyperplan )\n",
    "\n",
    "#c- parameter(hyperparameter)\n",
    "# low -c (accuracy_low)  | Larger-c (accuracy_high)\n",
    "#  -underfiting | overfiting \n",
    "\n",
    "\n",
    "# What's so special about SVMs?\n",
    "    "
   ]
  },
  {
   "cell_type": "code",
   "execution_count": null,
   "id": "42f80f61",
   "metadata": {},
   "outputs": [],
   "source": []
  }
 ],
 "metadata": {
  "kernelspec": {
   "display_name": "Python 3",
   "language": "python",
   "name": "python3"
  },
  "language_info": {
   "codemirror_mode": {
    "name": "ipython",
    "version": 3
   },
   "file_extension": ".py",
   "mimetype": "text/x-python",
   "name": "python",
   "nbconvert_exporter": "python",
   "pygments_lexer": "ipython3",
   "version": "3.8.8"
  }
 },
 "nbformat": 4,
 "nbformat_minor": 5
}
