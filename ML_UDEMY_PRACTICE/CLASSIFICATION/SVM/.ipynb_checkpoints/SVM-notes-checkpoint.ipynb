{
 "cells": [
  {
   "cell_type": "code",
   "execution_count": null,
   "id": "f260176d",
   "metadata": {},
   "outputs": [],
   "source": [
    "# Maximum margin - Line\n",
    "# Hyperplan - > positive hyperplan and negative hyperplan\n",
    "# model - entier pipline (negative hyperplan to positive hyperplan )\n",
    "\n",
    "#c- parameter(hyperparameter)\n",
    "# low -c (accuracy_low)  | Larger-c (accuracy_high)\n",
    "#  -underfiting | overfiting "
   ]
  }
 ],
 "metadata": {
  "kernelspec": {
   "display_name": "Python 3",
   "language": "python",
   "name": "python3"
  },
  "language_info": {
   "codemirror_mode": {
    "name": "ipython",
    "version": 3
   },
   "file_extension": ".py",
   "mimetype": "text/x-python",
   "name": "python",
   "nbconvert_exporter": "python",
   "pygments_lexer": "ipython3",
   "version": "3.8.8"
  }
 },
 "nbformat": 4,
 "nbformat_minor": 5
}
