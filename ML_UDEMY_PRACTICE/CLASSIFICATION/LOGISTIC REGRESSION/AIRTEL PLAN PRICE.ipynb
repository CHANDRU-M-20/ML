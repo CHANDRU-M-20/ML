{
 "cells": [
  {
   "cell_type": "code",
   "execution_count": 1,
   "id": "dfc5c347",
   "metadata": {},
   "outputs": [],
   "source": [
    "# 1 month plan 28 days - 239"
   ]
  },
  {
   "cell_type": "code",
   "execution_count": 3,
   "id": "c4892593",
   "metadata": {},
   "outputs": [],
   "source": [
    "div=90/28"
   ]
  },
  {
   "cell_type": "code",
   "execution_count": 4,
   "id": "8ee85696",
   "metadata": {},
   "outputs": [
    {
     "data": {
      "text/plain": [
       "768.2142857142858"
      ]
     },
     "execution_count": 4,
     "metadata": {},
     "output_type": "execute_result"
    }
   ],
   "source": [
    "div*239"
   ]
  },
  {
   "cell_type": "code",
   "execution_count": 7,
   "id": "61da43ea",
   "metadata": {},
   "outputs": [],
   "source": []
  },
  {
   "cell_type": "code",
   "execution_count": 8,
   "id": "f96a3cc0",
   "metadata": {},
   "outputs": [],
   "source": []
  },
  {
   "cell_type": "code",
   "execution_count": 10,
   "id": "36a88032",
   "metadata": {},
   "outputs": [],
   "source": []
  },
  {
   "cell_type": "code",
   "execution_count": 19,
   "id": "abcdd21c",
   "metadata": {},
   "outputs": [],
   "source": [
    "def day60(days_28,days_28_1_gb,days_60,days_60_1_5gb):\n",
    "    return plan_60vs28(days_28,days_28_1_gb,days_60,days_60_1_5gb)\n",
    "\n",
    "def plan_60vs28(days_28,days_28_1_gb,days_60,days_60_1_5gb):\n",
    "    print('1 gb - 28 days = 256Rs.')\n",
    "    print('1.5 gb - 60 days = 520Rs.')\n",
    "    day_value=(days_60/days_28)\n",
    "    print(f'60 days plan benifit =  {day_value} months and {day_value*days_28_1_gb}')"
   ]
  },
  {
   "cell_type": "code",
   "execution_count": 22,
   "id": "4439a0aa",
   "metadata": {},
   "outputs": [
    {
     "name": "stdout",
     "output_type": "stream",
     "text": [
      "1 gb - 28 days = 256Rs.\n",
      "1.5 gb - 60 days = 520Rs.\n",
      "60 days plan benifit =  2.142857142857143 months and 567.8571428571429\n"
     ]
    }
   ],
   "source": [
    "days_90=90\n",
    "days_90_1_5gb=779\n",
    "\n",
    "days_28=28\n",
    "days_28_1_gb=265\n",
    "\n",
    "days_60=60\n",
    "day_56=56\n",
    "day_56_1_5gb=480\n",
    "days_60_1_5gb=520\n",
    "day60(days_28,days_28_1_gb,days_60,days_60_1_5gb)\n"
   ]
  },
  {
   "cell_type": "code",
   "execution_count": 24,
   "id": "c938b32d",
   "metadata": {},
   "outputs": [],
   "source": [
    "days_90=90\n",
    "days_60=60\n",
    "days_90_1_5gb=779\n",
    "days_60_1_5gb=520\n",
    "def plan_60vs90(days_90,days_90_1_5gb,days_60,days_60_1_5gb):\n",
    "#     print('1 gb - 28 days = 256Rs.')\n",
    "   \n",
    "    day_value=(days_90/days_60)\n",
    "    print('1.5 gb - 60 days = 520Rs.')\n",
    "    print('1.5 gb - 90 days = 780Rs.')\n",
    "    print(f' {day_value} months and {day_value*days_60_1_5gb}')"
   ]
  },
  {
   "cell_type": "code",
   "execution_count": 25,
   "id": "1733946a",
   "metadata": {},
   "outputs": [
    {
     "name": "stdout",
     "output_type": "stream",
     "text": [
      "1.5 gb - 60 days = 520Rs.\n",
      "1.5 gb - 90 days = 780Rs.\n",
      " 1.5 months and 780.0\n"
     ]
    }
   ],
   "source": [
    "plan_60vs90(days_90,days_90_1_5gb,days_60,days_60_1_5gb)"
   ]
  },
  {
   "cell_type": "code",
   "execution_count": 26,
   "id": "728f1e69",
   "metadata": {},
   "outputs": [
    {
     "ename": "SyntaxError",
     "evalue": "invalid syntax (<ipython-input-26-4c6dcfcc3f78>, line 1)",
     "output_type": "error",
     "traceback": [
      "\u001b[1;36m  File \u001b[1;32m\"<ipython-input-26-4c6dcfcc3f78>\"\u001b[1;36m, line \u001b[1;32m1\u001b[0m\n\u001b[1;33m    999 Rs - 2.5 gb -84 days - prime\u001b[0m\n\u001b[1;37m        ^\u001b[0m\n\u001b[1;31mSyntaxError\u001b[0m\u001b[1;31m:\u001b[0m invalid syntax\n"
     ]
    }
   ],
   "source": [
    "999 Rs - 2.5 gb -84 days - prime"
   ]
  },
  {
   "cell_type": "code",
   "execution_count": 27,
   "id": "62936a8a",
   "metadata": {},
   "outputs": [],
   "source": [
    "day_value=(365/90)"
   ]
  },
  {
   "cell_type": "code",
   "execution_count": 29,
   "id": "b8a085d2",
   "metadata": {},
   "outputs": [
    {
     "data": {
      "text/plain": [
       "3159.277777777778"
      ]
     },
     "execution_count": 29,
     "metadata": {},
     "output_type": "execute_result"
    }
   ],
   "source": [
    "day_value*779"
   ]
  },
  {
   "cell_type": "code",
   "execution_count": null,
   "id": "52e13011",
   "metadata": {},
   "outputs": [],
   "source": []
  }
 ],
 "metadata": {
  "kernelspec": {
   "display_name": "Python 3",
   "language": "python",
   "name": "python3"
  },
  "language_info": {
   "codemirror_mode": {
    "name": "ipython",
    "version": 3
   },
   "file_extension": ".py",
   "mimetype": "text/x-python",
   "name": "python",
   "nbconvert_exporter": "python",
   "pygments_lexer": "ipython3",
   "version": "3.8.8"
  }
 },
 "nbformat": 4,
 "nbformat_minor": 5
}
