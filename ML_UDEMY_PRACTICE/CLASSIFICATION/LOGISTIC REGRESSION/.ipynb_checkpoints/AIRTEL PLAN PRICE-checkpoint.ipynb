{
 "cells": [
  {
   "cell_type": "code",
   "execution_count": 1,
   "id": "ba7e0ee2",
   "metadata": {},
   "outputs": [],
   "source": [
    "# 1 month plan 28 days - 239"
   ]
  },
  {
   "cell_type": "code",
   "execution_count": 3,
   "id": "f173650f",
   "metadata": {},
   "outputs": [],
   "source": [
    "div=90/28"
   ]
  },
  {
   "cell_type": "code",
   "execution_count": 4,
   "id": "8ed798e9",
   "metadata": {},
   "outputs": [
    {
     "data": {
      "text/plain": [
       "768.2142857142858"
      ]
     },
     "execution_count": 4,
     "metadata": {},
     "output_type": "execute_result"
    }
   ],
   "source": [
    "div*239"
   ]
  },
  {
   "cell_type": "code",
   "execution_count": 7,
   "id": "f6ed556b",
   "metadata": {},
   "outputs": [],
   "source": []
  },
  {
   "cell_type": "code",
   "execution_count": 8,
   "id": "b6973cf8",
   "metadata": {},
   "outputs": [],
   "source": []
  },
  {
   "cell_type": "code",
   "execution_count": 10,
   "id": "1b6d6274",
   "metadata": {},
   "outputs": [],
   "source": []
  },
  {
   "cell_type": "code",
   "execution_count": 11,
   "id": "bf4dd5f6",
   "metadata": {},
   "outputs": [],
   "source": [
    "def day60(days_28,days_28_1_gb,days_60,days_60_1_5gb):\n",
    "    print('compare 28 days vs 60 days plan:',plan_60vs28(days_28,days_28_1_gb,days_60,days_60_1_5gb))\n",
    "    def plan_60vs28(days_28,days_28_1_gb,days_60,days_60_1_5gb):\n",
    "        print('1 gb - 28 days = 256Rs.')\n",
    "        print('1.5 gb - 60 days = 520Rs.')\n",
    "        day_value=int(days_60/days_28)\n",
    "        print(f'60 days plan benifit =  {day_value} months and {day_value*days_28_1_gb}')"
   ]
  },
  {
   "cell_type": "code",
   "execution_count": 13,
   "id": "73e39c02",
   "metadata": {},
   "outputs": [
    {
     "ename": "UnboundLocalError",
     "evalue": "local variable 'plan_60vs28' referenced before assignment",
     "output_type": "error",
     "traceback": [
      "\u001b[1;31m---------------------------------------------------------------------------\u001b[0m",
      "\u001b[1;31mUnboundLocalError\u001b[0m                         Traceback (most recent call last)",
      "\u001b[1;32m<ipython-input-13-c7545116ce71>\u001b[0m in \u001b[0;36m<module>\u001b[1;34m\u001b[0m\n\u001b[0;32m      9\u001b[0m \u001b[0mday_56_1_5gb\u001b[0m\u001b[1;33m=\u001b[0m\u001b[1;36m480\u001b[0m\u001b[1;33m\u001b[0m\u001b[1;33m\u001b[0m\u001b[0m\n\u001b[0;32m     10\u001b[0m \u001b[0mdays_60_1_5gb\u001b[0m\u001b[1;33m=\u001b[0m\u001b[1;36m520\u001b[0m\u001b[1;33m\u001b[0m\u001b[1;33m\u001b[0m\u001b[0m\n\u001b[1;32m---> 11\u001b[1;33m \u001b[0mday60\u001b[0m\u001b[1;33m(\u001b[0m\u001b[0mdays_28\u001b[0m\u001b[1;33m,\u001b[0m\u001b[0mdays_28_1_gb\u001b[0m\u001b[1;33m,\u001b[0m\u001b[0mdays_60\u001b[0m\u001b[1;33m,\u001b[0m\u001b[0mdays_60_1_5gb\u001b[0m\u001b[1;33m)\u001b[0m\u001b[1;33m\u001b[0m\u001b[1;33m\u001b[0m\u001b[0m\n\u001b[0m",
      "\u001b[1;32m<ipython-input-11-5add1f2cfa50>\u001b[0m in \u001b[0;36mday60\u001b[1;34m(days_28, days_28_1_gb, days_60, days_60_1_5gb)\u001b[0m\n\u001b[0;32m      1\u001b[0m \u001b[1;32mdef\u001b[0m \u001b[0mday60\u001b[0m\u001b[1;33m(\u001b[0m\u001b[0mdays_28\u001b[0m\u001b[1;33m,\u001b[0m\u001b[0mdays_28_1_gb\u001b[0m\u001b[1;33m,\u001b[0m\u001b[0mdays_60\u001b[0m\u001b[1;33m,\u001b[0m\u001b[0mdays_60_1_5gb\u001b[0m\u001b[1;33m)\u001b[0m\u001b[1;33m:\u001b[0m\u001b[1;33m\u001b[0m\u001b[1;33m\u001b[0m\u001b[0m\n\u001b[1;32m----> 2\u001b[1;33m     \u001b[0mprint\u001b[0m\u001b[1;33m(\u001b[0m\u001b[1;34m'compare 28 days vs 60 days plan:'\u001b[0m\u001b[1;33m,\u001b[0m\u001b[0mplan_60vs28\u001b[0m\u001b[1;33m(\u001b[0m\u001b[0mdays_28\u001b[0m\u001b[1;33m,\u001b[0m\u001b[0mdays_28_1_gb\u001b[0m\u001b[1;33m,\u001b[0m\u001b[0mdays_60\u001b[0m\u001b[1;33m,\u001b[0m\u001b[0mdays_60_1_5gb\u001b[0m\u001b[1;33m)\u001b[0m\u001b[1;33m)\u001b[0m\u001b[1;33m\u001b[0m\u001b[1;33m\u001b[0m\u001b[0m\n\u001b[0m\u001b[0;32m      3\u001b[0m     \u001b[1;32mdef\u001b[0m \u001b[0mplan_60vs28\u001b[0m\u001b[1;33m(\u001b[0m\u001b[0mdays_28\u001b[0m\u001b[1;33m,\u001b[0m\u001b[0mdays_28_1_gb\u001b[0m\u001b[1;33m,\u001b[0m\u001b[0mdays_60\u001b[0m\u001b[1;33m,\u001b[0m\u001b[0mdays_60_1_5gb\u001b[0m\u001b[1;33m)\u001b[0m\u001b[1;33m:\u001b[0m\u001b[1;33m\u001b[0m\u001b[1;33m\u001b[0m\u001b[0m\n\u001b[0;32m      4\u001b[0m         \u001b[0mprint\u001b[0m\u001b[1;33m(\u001b[0m\u001b[1;34m'1 gb - 28 days = 256Rs.'\u001b[0m\u001b[1;33m)\u001b[0m\u001b[1;33m\u001b[0m\u001b[1;33m\u001b[0m\u001b[0m\n\u001b[0;32m      5\u001b[0m         \u001b[0mprint\u001b[0m\u001b[1;33m(\u001b[0m\u001b[1;34m'1.5 gb - 60 days = 520Rs.'\u001b[0m\u001b[1;33m)\u001b[0m\u001b[1;33m\u001b[0m\u001b[1;33m\u001b[0m\u001b[0m\n",
      "\u001b[1;31mUnboundLocalError\u001b[0m: local variable 'plan_60vs28' referenced before assignment"
     ]
    }
   ],
   "source": [
    "days_90=90\n",
    "days_90_1_5gb=779\n",
    "\n",
    "days_28=28\n",
    "days_28_1_gb=265\n",
    "\n",
    "days_60=60\n",
    "day_56=56\n",
    "day_56_1_5gb=480\n",
    "days_60_1_5gb=520\n",
    "day60(days_28,days_28_1_gb,days_60,days_60_1_5gb)"
   ]
  },
  {
   "cell_type": "code",
   "execution_count": null,
   "id": "59c680a6",
   "metadata": {},
   "outputs": [],
   "source": []
  }
 ],
 "metadata": {
  "kernelspec": {
   "display_name": "Python 3",
   "language": "python",
   "name": "python3"
  },
  "language_info": {
   "codemirror_mode": {
    "name": "ipython",
    "version": 3
   },
   "file_extension": ".py",
   "mimetype": "text/x-python",
   "name": "python",
   "nbconvert_exporter": "python",
   "pygments_lexer": "ipython3",
   "version": "3.8.8"
  }
 },
 "nbformat": 4,
 "nbformat_minor": 5
}
