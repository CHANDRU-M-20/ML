{
 "cells": [
  {
   "cell_type": "code",
   "execution_count": 4,
   "id": "95a66e5a",
   "metadata": {},
   "outputs": [
    {
     "name": "stdout",
     "output_type": "stream",
     "text": [
      "[98.4198286]\n"
     ]
    }
   ],
   "source": [
    "\n",
    "import numpy as np\n",
    "from sklearn.preprocessing import StandardScaler\n",
    "from sklearn.linear_model import LinearRegression\n",
    "\n",
    "# define our X and y values\n",
    "X = np.array([[1], [2], [3], [4], [5], [6], [7], [8], [9], [10]])\n",
    "y = np.array([2, 3, 4, 5, 6, 7, 8, 9, 10, 11])\n",
    "\n",
    "# standardize our X values\n",
    "scaler = StandardScaler()\n",
    "scaler.fit(X)\n",
    "X_scaled = scaler.transform(X)\n",
    "\n",
    "# fit our linear regression model\n",
    "lr = LinearRegression()\n",
    "lr.fit(X_scaled, y)\n",
    "\n",
    "# make a prediction for a new value\n",
    "y_prev = lr.predict(np.array([[9]]))\n",
    "\n",
    "# inverse transform the predicted value to its original scale\n",
    "y_prev = scaler.inverse_transform(y_prev)\n",
    "\n",
    "print(y_prev) # should output the predicted value for y at X = 11, in its original scale\n",
    "\n",
    "\n",
    "\n"
   ]
  },
  {
   "cell_type": "code",
   "execution_count": null,
   "id": "f6aaf190",
   "metadata": {},
   "outputs": [],
   "source": []
  }
 ],
 "metadata": {
  "kernelspec": {
   "display_name": "Python 3",
   "language": "python",
   "name": "python3"
  },
  "language_info": {
   "codemirror_mode": {
    "name": "ipython",
    "version": 3
   },
   "file_extension": ".py",
   "mimetype": "text/x-python",
   "name": "python",
   "nbconvert_exporter": "python",
   "pygments_lexer": "ipython3",
   "version": "3.8.8"
  }
 },
 "nbformat": 4,
 "nbformat_minor": 5
}
