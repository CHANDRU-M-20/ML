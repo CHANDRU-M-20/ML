{
 "cells": [
  {
   "cell_type": "markdown",
   "id": "37dd488f",
   "metadata": {},
   "source": [
    "# Real estate price prediction"
   ]
  },
  {
   "cell_type": "code",
   "execution_count": 1,
   "id": "2cc0c146",
   "metadata": {},
   "outputs": [],
   "source": [
    "import pandas as pd\n",
    "from termcolor import colored\n",
    "import warnings \n",
    "warnings.filterwarnings('ignore')\n",
    "import numpy as np"
   ]
  },
  {
   "cell_type": "code",
   "execution_count": 2,
   "id": "ec5f335a",
   "metadata": {},
   "outputs": [],
   "source": [
    "df=pd.read_csv('Real estate.csv')"
   ]
  },
  {
   "cell_type": "code",
   "execution_count": 3,
   "id": "ed6d9062",
   "metadata": {},
   "outputs": [
    {
     "data": {
      "text/html": [
       "<div>\n",
       "<style scoped>\n",
       "    .dataframe tbody tr th:only-of-type {\n",
       "        vertical-align: middle;\n",
       "    }\n",
       "\n",
       "    .dataframe tbody tr th {\n",
       "        vertical-align: top;\n",
       "    }\n",
       "\n",
       "    .dataframe thead th {\n",
       "        text-align: right;\n",
       "    }\n",
       "</style>\n",
       "<table border=\"1\" class=\"dataframe\">\n",
       "  <thead>\n",
       "    <tr style=\"text-align: right;\">\n",
       "      <th></th>\n",
       "      <th>No</th>\n",
       "      <th>X1 transaction date</th>\n",
       "      <th>X2 house age</th>\n",
       "      <th>X3### distance to the nearest MRT station</th>\n",
       "      <th>X4 number of convenience stores</th>\n",
       "      <th>X5 latitude</th>\n",
       "      <th>X6 longitude</th>\n",
       "      <th>Y house price of unit area</th>\n",
       "    </tr>\n",
       "  </thead>\n",
       "  <tbody>\n",
       "    <tr>\n",
       "      <th>0</th>\n",
       "      <td>1</td>\n",
       "      <td>2012.917</td>\n",
       "      <td>32.0</td>\n",
       "      <td>84.87882</td>\n",
       "      <td>10</td>\n",
       "      <td>24.98298</td>\n",
       "      <td>121.54024</td>\n",
       "      <td>37.9</td>\n",
       "    </tr>\n",
       "    <tr>\n",
       "      <th>1</th>\n",
       "      <td>2</td>\n",
       "      <td>2012.917</td>\n",
       "      <td>19.5</td>\n",
       "      <td>306.59470</td>\n",
       "      <td>9</td>\n",
       "      <td>24.98034</td>\n",
       "      <td>121.53951</td>\n",
       "      <td>42.2</td>\n",
       "    </tr>\n",
       "    <tr>\n",
       "      <th>2</th>\n",
       "      <td>3</td>\n",
       "      <td>2013.583</td>\n",
       "      <td>13.3</td>\n",
       "      <td>561.98450</td>\n",
       "      <td>5</td>\n",
       "      <td>24.98746</td>\n",
       "      <td>121.54391</td>\n",
       "      <td>47.3</td>\n",
       "    </tr>\n",
       "    <tr>\n",
       "      <th>3</th>\n",
       "      <td>4</td>\n",
       "      <td>2013.500</td>\n",
       "      <td>13.3</td>\n",
       "      <td>561.98450</td>\n",
       "      <td>5</td>\n",
       "      <td>24.98746</td>\n",
       "      <td>121.54391</td>\n",
       "      <td>54.8</td>\n",
       "    </tr>\n",
       "    <tr>\n",
       "      <th>4</th>\n",
       "      <td>5</td>\n",
       "      <td>2012.833</td>\n",
       "      <td>5.0</td>\n",
       "      <td>390.56840</td>\n",
       "      <td>5</td>\n",
       "      <td>24.97937</td>\n",
       "      <td>121.54245</td>\n",
       "      <td>43.1</td>\n",
       "    </tr>\n",
       "    <tr>\n",
       "      <th>...</th>\n",
       "      <td>...</td>\n",
       "      <td>...</td>\n",
       "      <td>...</td>\n",
       "      <td>...</td>\n",
       "      <td>...</td>\n",
       "      <td>...</td>\n",
       "      <td>...</td>\n",
       "      <td>...</td>\n",
       "    </tr>\n",
       "    <tr>\n",
       "      <th>409</th>\n",
       "      <td>410</td>\n",
       "      <td>2013.000</td>\n",
       "      <td>13.7</td>\n",
       "      <td>4082.01500</td>\n",
       "      <td>0</td>\n",
       "      <td>24.94155</td>\n",
       "      <td>121.50381</td>\n",
       "      <td>15.4</td>\n",
       "    </tr>\n",
       "    <tr>\n",
       "      <th>410</th>\n",
       "      <td>411</td>\n",
       "      <td>2012.667</td>\n",
       "      <td>5.6</td>\n",
       "      <td>90.45606</td>\n",
       "      <td>9</td>\n",
       "      <td>24.97433</td>\n",
       "      <td>121.54310</td>\n",
       "      <td>50.0</td>\n",
       "    </tr>\n",
       "    <tr>\n",
       "      <th>411</th>\n",
       "      <td>412</td>\n",
       "      <td>2013.250</td>\n",
       "      <td>18.8</td>\n",
       "      <td>390.96960</td>\n",
       "      <td>7</td>\n",
       "      <td>24.97923</td>\n",
       "      <td>121.53986</td>\n",
       "      <td>40.6</td>\n",
       "    </tr>\n",
       "    <tr>\n",
       "      <th>412</th>\n",
       "      <td>413</td>\n",
       "      <td>2013.000</td>\n",
       "      <td>8.1</td>\n",
       "      <td>104.81010</td>\n",
       "      <td>5</td>\n",
       "      <td>24.96674</td>\n",
       "      <td>121.54067</td>\n",
       "      <td>52.5</td>\n",
       "    </tr>\n",
       "    <tr>\n",
       "      <th>413</th>\n",
       "      <td>414</td>\n",
       "      <td>2013.500</td>\n",
       "      <td>6.5</td>\n",
       "      <td>90.45606</td>\n",
       "      <td>9</td>\n",
       "      <td>24.97433</td>\n",
       "      <td>121.54310</td>\n",
       "      <td>63.9</td>\n",
       "    </tr>\n",
       "  </tbody>\n",
       "</table>\n",
       "<p>414 rows × 8 columns</p>\n",
       "</div>"
      ],
      "text/plain": [
       "      No  X1 transaction date  X2 house age  \\\n",
       "0      1             2012.917          32.0   \n",
       "1      2             2012.917          19.5   \n",
       "2      3             2013.583          13.3   \n",
       "3      4             2013.500          13.3   \n",
       "4      5             2012.833           5.0   \n",
       "..   ...                  ...           ...   \n",
       "409  410             2013.000          13.7   \n",
       "410  411             2012.667           5.6   \n",
       "411  412             2013.250          18.8   \n",
       "412  413             2013.000           8.1   \n",
       "413  414             2013.500           6.5   \n",
       "\n",
       "     X3### distance to the nearest MRT station  \\\n",
       "0                                     84.87882   \n",
       "1                                    306.59470   \n",
       "2                                    561.98450   \n",
       "3                                    561.98450   \n",
       "4                                    390.56840   \n",
       "..                                         ...   \n",
       "409                                 4082.01500   \n",
       "410                                   90.45606   \n",
       "411                                  390.96960   \n",
       "412                                  104.81010   \n",
       "413                                   90.45606   \n",
       "\n",
       "     X4 number of convenience stores  X5 latitude  X6 longitude  \\\n",
       "0                                 10     24.98298     121.54024   \n",
       "1                                  9     24.98034     121.53951   \n",
       "2                                  5     24.98746     121.54391   \n",
       "3                                  5     24.98746     121.54391   \n",
       "4                                  5     24.97937     121.54245   \n",
       "..                               ...          ...           ...   \n",
       "409                                0     24.94155     121.50381   \n",
       "410                                9     24.97433     121.54310   \n",
       "411                                7     24.97923     121.53986   \n",
       "412                                5     24.96674     121.54067   \n",
       "413                                9     24.97433     121.54310   \n",
       "\n",
       "     Y house price of unit area  \n",
       "0                          37.9  \n",
       "1                          42.2  \n",
       "2                          47.3  \n",
       "3                          54.8  \n",
       "4                          43.1  \n",
       "..                          ...  \n",
       "409                        15.4  \n",
       "410                        50.0  \n",
       "411                        40.6  \n",
       "412                        52.5  \n",
       "413                        63.9  \n",
       "\n",
       "[414 rows x 8 columns]"
      ]
     },
     "execution_count": 3,
     "metadata": {},
     "output_type": "execute_result"
    }
   ],
   "source": [
    "df"
   ]
  },
  {
   "cell_type": "code",
   "execution_count": 4,
   "id": "79752922",
   "metadata": {},
   "outputs": [
    {
     "data": {
      "text/html": [
       "<div>\n",
       "<style scoped>\n",
       "    .dataframe tbody tr th:only-of-type {\n",
       "        vertical-align: middle;\n",
       "    }\n",
       "\n",
       "    .dataframe tbody tr th {\n",
       "        vertical-align: top;\n",
       "    }\n",
       "\n",
       "    .dataframe thead th {\n",
       "        text-align: right;\n",
       "    }\n",
       "</style>\n",
       "<table border=\"1\" class=\"dataframe\">\n",
       "  <thead>\n",
       "    <tr style=\"text-align: right;\">\n",
       "      <th></th>\n",
       "      <th>No</th>\n",
       "      <th>X1 transaction date</th>\n",
       "      <th>X2 house age</th>\n",
       "      <th>X3### distance to the nearest MRT station</th>\n",
       "      <th>X4 number of convenience stores</th>\n",
       "      <th>X5 latitude</th>\n",
       "      <th>X6 longitude</th>\n",
       "      <th>Y house price of unit area</th>\n",
       "    </tr>\n",
       "  </thead>\n",
       "  <tbody>\n",
       "    <tr>\n",
       "      <th>0</th>\n",
       "      <td>1</td>\n",
       "      <td>2012.917</td>\n",
       "      <td>32.0</td>\n",
       "      <td>84.87882</td>\n",
       "      <td>10</td>\n",
       "      <td>24.98298</td>\n",
       "      <td>121.54024</td>\n",
       "      <td>37.9</td>\n",
       "    </tr>\n",
       "    <tr>\n",
       "      <th>1</th>\n",
       "      <td>2</td>\n",
       "      <td>2012.917</td>\n",
       "      <td>19.5</td>\n",
       "      <td>306.59470</td>\n",
       "      <td>9</td>\n",
       "      <td>24.98034</td>\n",
       "      <td>121.53951</td>\n",
       "      <td>42.2</td>\n",
       "    </tr>\n",
       "    <tr>\n",
       "      <th>2</th>\n",
       "      <td>3</td>\n",
       "      <td>2013.583</td>\n",
       "      <td>13.3</td>\n",
       "      <td>561.98450</td>\n",
       "      <td>5</td>\n",
       "      <td>24.98746</td>\n",
       "      <td>121.54391</td>\n",
       "      <td>47.3</td>\n",
       "    </tr>\n",
       "    <tr>\n",
       "      <th>3</th>\n",
       "      <td>4</td>\n",
       "      <td>2013.500</td>\n",
       "      <td>13.3</td>\n",
       "      <td>561.98450</td>\n",
       "      <td>5</td>\n",
       "      <td>24.98746</td>\n",
       "      <td>121.54391</td>\n",
       "      <td>54.8</td>\n",
       "    </tr>\n",
       "    <tr>\n",
       "      <th>4</th>\n",
       "      <td>5</td>\n",
       "      <td>2012.833</td>\n",
       "      <td>5.0</td>\n",
       "      <td>390.56840</td>\n",
       "      <td>5</td>\n",
       "      <td>24.97937</td>\n",
       "      <td>121.54245</td>\n",
       "      <td>43.1</td>\n",
       "    </tr>\n",
       "  </tbody>\n",
       "</table>\n",
       "</div>"
      ],
      "text/plain": [
       "   No  X1 transaction date  X2 house age  \\\n",
       "0   1             2012.917          32.0   \n",
       "1   2             2012.917          19.5   \n",
       "2   3             2013.583          13.3   \n",
       "3   4             2013.500          13.3   \n",
       "4   5             2012.833           5.0   \n",
       "\n",
       "   X3### distance to the nearest MRT station  X4 number of convenience stores  \\\n",
       "0                                   84.87882                               10   \n",
       "1                                  306.59470                                9   \n",
       "2                                  561.98450                                5   \n",
       "3                                  561.98450                                5   \n",
       "4                                  390.56840                                5   \n",
       "\n",
       "   X5 latitude  X6 longitude  Y house price of unit area  \n",
       "0     24.98298     121.54024                        37.9  \n",
       "1     24.98034     121.53951                        42.2  \n",
       "2     24.98746     121.54391                        47.3  \n",
       "3     24.98746     121.54391                        54.8  \n",
       "4     24.97937     121.54245                        43.1  "
      ]
     },
     "execution_count": 4,
     "metadata": {},
     "output_type": "execute_result"
    }
   ],
   "source": [
    "df.head()"
   ]
  },
  {
   "cell_type": "code",
   "execution_count": 5,
   "id": "a6c78c92",
   "metadata": {},
   "outputs": [
    {
     "name": "stdout",
     "output_type": "stream",
     "text": [
      "414\n",
      "8\n"
     ]
    }
   ],
   "source": [
    "print(df.shape[0])\n",
    "print(df.shape[1])"
   ]
  },
  {
   "cell_type": "code",
   "execution_count": 6,
   "id": "05e39869",
   "metadata": {},
   "outputs": [],
   "source": [
    "from string import punctuation"
   ]
  },
  {
   "cell_type": "code",
   "execution_count": 7,
   "id": "5fa440c3",
   "metadata": {},
   "outputs": [
    {
     "name": "stdout",
     "output_type": "stream",
     "text": [
      "!\"#$%&'()*+,-./:;<=>?@[\\]^_`{|}~\n"
     ]
    }
   ],
   "source": [
    "print(punctuation)"
   ]
  },
  {
   "cell_type": "code",
   "execution_count": 8,
   "id": "820c6b5c",
   "metadata": {},
   "outputs": [
    {
     "data": {
      "text/plain": [
       "Index(['No', 'X1 transaction date', 'X2 house age',\n",
       "       'X3### distance to the nearest MRT station',\n",
       "       'X4 number of convenience stores', 'X5 latitude', 'X6 longitude',\n",
       "       'Y house price of unit area'],\n",
       "      dtype='object')"
      ]
     },
     "execution_count": 8,
     "metadata": {},
     "output_type": "execute_result"
    }
   ],
   "source": [
    "\n",
    "df.columns"
   ]
  },
  {
   "cell_type": "code",
   "execution_count": 9,
   "id": "503e04c2",
   "metadata": {},
   "outputs": [
    {
     "data": {
      "text/plain": [
       "No                                             int64\n",
       "X1 transaction date                          float64\n",
       "X2 house age                                 float64\n",
       "X3### distance to the nearest MRT station    float64\n",
       "X4 number of convenience stores                int64\n",
       "X5 latitude                                  float64\n",
       "X6 longitude                                 float64\n",
       "Y house price of unit area                   float64\n",
       "dtype: object"
      ]
     },
     "execution_count": 9,
     "metadata": {},
     "output_type": "execute_result"
    }
   ],
   "source": [
    "df.dtypes"
   ]
  },
  {
   "cell_type": "code",
   "execution_count": 10,
   "id": "8faf89b8",
   "metadata": {},
   "outputs": [],
   "source": [
    "df.drop(columns=['No'],index=1,inplace=True)"
   ]
  },
  {
   "cell_type": "code",
   "execution_count": 11,
   "id": "eaae6241",
   "metadata": {},
   "outputs": [
    {
     "data": {
      "text/plain": [
       "(413, 7)"
      ]
     },
     "execution_count": 11,
     "metadata": {},
     "output_type": "execute_result"
    }
   ],
   "source": [
    "df.shape"
   ]
  },
  {
   "cell_type": "code",
   "execution_count": 12,
   "id": "c2af7480",
   "metadata": {},
   "outputs": [],
   "source": [
    "punctuation_list=list(punctuation)\n",
    "columns_names=list(df.columns)"
   ]
  },
  {
   "cell_type": "code",
   "execution_count": 13,
   "id": "9d0a50b1",
   "metadata": {},
   "outputs": [
    {
     "name": "stdout",
     "output_type": "stream",
     "text": [
      "['!', '\"', '#', '$', '%', '&', \"'\", '(', ')', '*', '+', ',', '-', '.', '/', ':', ';', '<', '=', '>', '?', '@', '[', '\\\\', ']', '^', '_', '`', '{', '|', '}', '~']\n"
     ]
    }
   ],
   "source": [
    "print(punctuation_list)"
   ]
  },
  {
   "cell_type": "code",
   "execution_count": 14,
   "id": "ba7b9864",
   "metadata": {},
   "outputs": [
    {
     "name": "stdout",
     "output_type": "stream",
     "text": [
      "['X1 transaction date', 'X2 house age', 'X3### distance to the nearest MRT station', 'X4 number of convenience stores', 'X5 latitude', 'X6 longitude', 'Y house price of unit area']\n"
     ]
    }
   ],
   "source": [
    "print(columns_names)"
   ]
  },
  {
   "cell_type": "code",
   "execution_count": 15,
   "id": "7c5d228e",
   "metadata": {},
   "outputs": [
    {
     "name": "stdout",
     "output_type": "stream",
     "text": [
      "yes\n",
      "# ===> X3### distance to the nearest MRT station\n"
     ]
    }
   ],
   "source": [
    "for i in range(len(punctuation_list)):\n",
    "    for j in range(len(columns_names)):\n",
    "        if(punctuation_list[i] in columns_names[j]):\n",
    "            print('yes')\n",
    "            print(punctuation_list[i] ,'===>',columns_names[j])"
   ]
  },
  {
   "cell_type": "code",
   "execution_count": 16,
   "id": "58d70899",
   "metadata": {},
   "outputs": [],
   "source": [
    "# print(df.head())\n",
    "# df.columns=df.columns.str.replace('['+punctuation+']','',regex=True)    #Replacing all the special characters to empty string\n",
    "# print(df.columns)\n",
    "# print()\n",
    "# df.columns=df.columns.str.strip()   #Replacing all empty space to empty string\n",
    "# print(df.columns)\n",
    "# df.head()"
   ]
  },
  {
   "cell_type": "code",
   "execution_count": 17,
   "id": "2f7c60e9",
   "metadata": {},
   "outputs": [
    {
     "data": {
      "text/plain": [
       "7"
      ]
     },
     "execution_count": 17,
     "metadata": {},
     "output_type": "execute_result"
    }
   ],
   "source": [
    "punctuation_list.index('(')\n"
   ]
  },
  {
   "cell_type": "code",
   "execution_count": 18,
   "id": "c44fc94e",
   "metadata": {},
   "outputs": [],
   "source": [
    "\n",
    "punctuation_list.remove('(')"
   ]
  },
  {
   "cell_type": "code",
   "execution_count": 19,
   "id": "71a10609",
   "metadata": {},
   "outputs": [
    {
     "name": "stdout",
     "output_type": "stream",
     "text": [
      "['!', '\"', '#', '$', '%', '&', \"'\", ')', '*', '+', ',', '-', '.', '/', ':', ';', '<', '=', '>', '?', '@', '[', '\\\\', ']', '^', '_', '`', '{', '|', '}', '~']\n"
     ]
    }
   ],
   "source": [
    "print(punctuation_list)"
   ]
  },
  {
   "cell_type": "code",
   "execution_count": null,
   "id": "d3886ce9",
   "metadata": {},
   "outputs": [],
   "source": []
  },
  {
   "cell_type": "code",
   "execution_count": 20,
   "id": "6290de68",
   "metadata": {},
   "outputs": [
    {
     "data": {
      "text/plain": [
       "X1 transaction date                          0\n",
       "X2 house age                                 0\n",
       "X3### distance to the nearest MRT station    0\n",
       "X4 number of convenience stores              0\n",
       "X5 latitude                                  0\n",
       "X6 longitude                                 0\n",
       "Y house price of unit area                   0\n",
       "dtype: int64"
      ]
     },
     "execution_count": 20,
     "metadata": {},
     "output_type": "execute_result"
    }
   ],
   "source": [
    "\n",
    "df.isnull().sum()"
   ]
  },
  {
   "cell_type": "code",
   "execution_count": 21,
   "id": "8ca540ee",
   "metadata": {},
   "outputs": [],
   "source": [
    "df.columns=df.columns.str.replace('['+punctuation+']','',regex=True)"
   ]
  },
  {
   "cell_type": "code",
   "execution_count": 22,
   "id": "d69cb1c7",
   "metadata": {},
   "outputs": [
    {
     "data": {
      "text/plain": [
       "Index(['X1 transaction date', 'X2 house age',\n",
       "       'X3 distance to the nearest MRT station',\n",
       "       'X4 number of convenience stores', 'X5 latitude', 'X6 longitude',\n",
       "       'Y house price of unit area'],\n",
       "      dtype='object')"
      ]
     },
     "execution_count": 22,
     "metadata": {},
     "output_type": "execute_result"
    }
   ],
   "source": [
    "df.columns"
   ]
  },
  {
   "cell_type": "code",
   "execution_count": 23,
   "id": "363f061b",
   "metadata": {},
   "outputs": [
    {
     "data": {
      "text/html": [
       "<div>\n",
       "<style scoped>\n",
       "    .dataframe tbody tr th:only-of-type {\n",
       "        vertical-align: middle;\n",
       "    }\n",
       "\n",
       "    .dataframe tbody tr th {\n",
       "        vertical-align: top;\n",
       "    }\n",
       "\n",
       "    .dataframe thead th {\n",
       "        text-align: right;\n",
       "    }\n",
       "</style>\n",
       "<table border=\"1\" class=\"dataframe\">\n",
       "  <thead>\n",
       "    <tr style=\"text-align: right;\">\n",
       "      <th></th>\n",
       "      <th>X1 transaction date</th>\n",
       "      <th>X2 house age</th>\n",
       "      <th>X3 distance to the nearest MRT station</th>\n",
       "      <th>X4 number of convenience stores</th>\n",
       "      <th>X5 latitude</th>\n",
       "      <th>X6 longitude</th>\n",
       "      <th>Y house price of unit area</th>\n",
       "    </tr>\n",
       "  </thead>\n",
       "  <tbody>\n",
       "    <tr>\n",
       "      <th>0</th>\n",
       "      <td>2012.917</td>\n",
       "      <td>32.0</td>\n",
       "      <td>84.87882</td>\n",
       "      <td>10</td>\n",
       "      <td>24.98298</td>\n",
       "      <td>121.54024</td>\n",
       "      <td>37.9</td>\n",
       "    </tr>\n",
       "    <tr>\n",
       "      <th>2</th>\n",
       "      <td>2013.583</td>\n",
       "      <td>13.3</td>\n",
       "      <td>561.98450</td>\n",
       "      <td>5</td>\n",
       "      <td>24.98746</td>\n",
       "      <td>121.54391</td>\n",
       "      <td>47.3</td>\n",
       "    </tr>\n",
       "    <tr>\n",
       "      <th>3</th>\n",
       "      <td>2013.500</td>\n",
       "      <td>13.3</td>\n",
       "      <td>561.98450</td>\n",
       "      <td>5</td>\n",
       "      <td>24.98746</td>\n",
       "      <td>121.54391</td>\n",
       "      <td>54.8</td>\n",
       "    </tr>\n",
       "    <tr>\n",
       "      <th>4</th>\n",
       "      <td>2012.833</td>\n",
       "      <td>5.0</td>\n",
       "      <td>390.56840</td>\n",
       "      <td>5</td>\n",
       "      <td>24.97937</td>\n",
       "      <td>121.54245</td>\n",
       "      <td>43.1</td>\n",
       "    </tr>\n",
       "    <tr>\n",
       "      <th>5</th>\n",
       "      <td>2012.667</td>\n",
       "      <td>7.1</td>\n",
       "      <td>2175.03000</td>\n",
       "      <td>3</td>\n",
       "      <td>24.96305</td>\n",
       "      <td>121.51254</td>\n",
       "      <td>32.1</td>\n",
       "    </tr>\n",
       "    <tr>\n",
       "      <th>...</th>\n",
       "      <td>...</td>\n",
       "      <td>...</td>\n",
       "      <td>...</td>\n",
       "      <td>...</td>\n",
       "      <td>...</td>\n",
       "      <td>...</td>\n",
       "      <td>...</td>\n",
       "    </tr>\n",
       "    <tr>\n",
       "      <th>409</th>\n",
       "      <td>2013.000</td>\n",
       "      <td>13.7</td>\n",
       "      <td>4082.01500</td>\n",
       "      <td>0</td>\n",
       "      <td>24.94155</td>\n",
       "      <td>121.50381</td>\n",
       "      <td>15.4</td>\n",
       "    </tr>\n",
       "    <tr>\n",
       "      <th>410</th>\n",
       "      <td>2012.667</td>\n",
       "      <td>5.6</td>\n",
       "      <td>90.45606</td>\n",
       "      <td>9</td>\n",
       "      <td>24.97433</td>\n",
       "      <td>121.54310</td>\n",
       "      <td>50.0</td>\n",
       "    </tr>\n",
       "    <tr>\n",
       "      <th>411</th>\n",
       "      <td>2013.250</td>\n",
       "      <td>18.8</td>\n",
       "      <td>390.96960</td>\n",
       "      <td>7</td>\n",
       "      <td>24.97923</td>\n",
       "      <td>121.53986</td>\n",
       "      <td>40.6</td>\n",
       "    </tr>\n",
       "    <tr>\n",
       "      <th>412</th>\n",
       "      <td>2013.000</td>\n",
       "      <td>8.1</td>\n",
       "      <td>104.81010</td>\n",
       "      <td>5</td>\n",
       "      <td>24.96674</td>\n",
       "      <td>121.54067</td>\n",
       "      <td>52.5</td>\n",
       "    </tr>\n",
       "    <tr>\n",
       "      <th>413</th>\n",
       "      <td>2013.500</td>\n",
       "      <td>6.5</td>\n",
       "      <td>90.45606</td>\n",
       "      <td>9</td>\n",
       "      <td>24.97433</td>\n",
       "      <td>121.54310</td>\n",
       "      <td>63.9</td>\n",
       "    </tr>\n",
       "  </tbody>\n",
       "</table>\n",
       "<p>413 rows × 7 columns</p>\n",
       "</div>"
      ],
      "text/plain": [
       "     X1 transaction date  X2 house age  \\\n",
       "0               2012.917          32.0   \n",
       "2               2013.583          13.3   \n",
       "3               2013.500          13.3   \n",
       "4               2012.833           5.0   \n",
       "5               2012.667           7.1   \n",
       "..                   ...           ...   \n",
       "409             2013.000          13.7   \n",
       "410             2012.667           5.6   \n",
       "411             2013.250          18.8   \n",
       "412             2013.000           8.1   \n",
       "413             2013.500           6.5   \n",
       "\n",
       "     X3 distance to the nearest MRT station  X4 number of convenience stores  \\\n",
       "0                                  84.87882                               10   \n",
       "2                                 561.98450                                5   \n",
       "3                                 561.98450                                5   \n",
       "4                                 390.56840                                5   \n",
       "5                                2175.03000                                3   \n",
       "..                                      ...                              ...   \n",
       "409                              4082.01500                                0   \n",
       "410                                90.45606                                9   \n",
       "411                               390.96960                                7   \n",
       "412                               104.81010                                5   \n",
       "413                                90.45606                                9   \n",
       "\n",
       "     X5 latitude  X6 longitude  Y house price of unit area  \n",
       "0       24.98298     121.54024                        37.9  \n",
       "2       24.98746     121.54391                        47.3  \n",
       "3       24.98746     121.54391                        54.8  \n",
       "4       24.97937     121.54245                        43.1  \n",
       "5       24.96305     121.51254                        32.1  \n",
       "..           ...           ...                         ...  \n",
       "409     24.94155     121.50381                        15.4  \n",
       "410     24.97433     121.54310                        50.0  \n",
       "411     24.97923     121.53986                        40.6  \n",
       "412     24.96674     121.54067                        52.5  \n",
       "413     24.97433     121.54310                        63.9  \n",
       "\n",
       "[413 rows x 7 columns]"
      ]
     },
     "execution_count": 23,
     "metadata": {},
     "output_type": "execute_result"
    }
   ],
   "source": [
    "df"
   ]
  },
  {
   "cell_type": "code",
   "execution_count": 24,
   "id": "93fd0067",
   "metadata": {},
   "outputs": [],
   "source": [
    "df_corr=df.corr()"
   ]
  },
  {
   "cell_type": "code",
   "execution_count": 25,
   "id": "58f96947",
   "metadata": {},
   "outputs": [
    {
     "data": {
      "text/html": [
       "<div>\n",
       "<style scoped>\n",
       "    .dataframe tbody tr th:only-of-type {\n",
       "        vertical-align: middle;\n",
       "    }\n",
       "\n",
       "    .dataframe tbody tr th {\n",
       "        vertical-align: top;\n",
       "    }\n",
       "\n",
       "    .dataframe thead th {\n",
       "        text-align: right;\n",
       "    }\n",
       "</style>\n",
       "<table border=\"1\" class=\"dataframe\">\n",
       "  <thead>\n",
       "    <tr style=\"text-align: right;\">\n",
       "      <th></th>\n",
       "      <th>X1 transaction date</th>\n",
       "      <th>X2 house age</th>\n",
       "      <th>X3 distance to the nearest MRT station</th>\n",
       "      <th>X4 number of convenience stores</th>\n",
       "      <th>X5 latitude</th>\n",
       "      <th>X6 longitude</th>\n",
       "      <th>Y house price of unit area</th>\n",
       "    </tr>\n",
       "  </thead>\n",
       "  <tbody>\n",
       "    <tr>\n",
       "      <th>X1 transaction date</th>\n",
       "      <td>1.000000</td>\n",
       "      <td>0.017877</td>\n",
       "      <td>0.059727</td>\n",
       "      <td>0.013016</td>\n",
       "      <td>0.036945</td>\n",
       "      <td>-0.040323</td>\n",
       "      <td>0.088193</td>\n",
       "    </tr>\n",
       "    <tr>\n",
       "      <th>X2 house age</th>\n",
       "      <td>0.017877</td>\n",
       "      <td>1.000000</td>\n",
       "      <td>0.025869</td>\n",
       "      <td>0.049125</td>\n",
       "      <td>0.054129</td>\n",
       "      <td>-0.048684</td>\n",
       "      <td>-0.210716</td>\n",
       "    </tr>\n",
       "    <tr>\n",
       "      <th>X3 distance to the nearest MRT station</th>\n",
       "      <td>0.059727</td>\n",
       "      <td>0.025869</td>\n",
       "      <td>1.000000</td>\n",
       "      <td>-0.602337</td>\n",
       "      <td>-0.590571</td>\n",
       "      <td>-0.806246</td>\n",
       "      <td>-0.673538</td>\n",
       "    </tr>\n",
       "    <tr>\n",
       "      <th>X4 number of convenience stores</th>\n",
       "      <td>0.013016</td>\n",
       "      <td>0.049125</td>\n",
       "      <td>-0.602337</td>\n",
       "      <td>1.000000</td>\n",
       "      <td>0.442396</td>\n",
       "      <td>0.449081</td>\n",
       "      <td>0.571746</td>\n",
       "    </tr>\n",
       "    <tr>\n",
       "      <th>X5 latitude</th>\n",
       "      <td>0.036945</td>\n",
       "      <td>0.054129</td>\n",
       "      <td>-0.590571</td>\n",
       "      <td>0.442396</td>\n",
       "      <td>1.000000</td>\n",
       "      <td>0.412534</td>\n",
       "      <td>0.546235</td>\n",
       "    </tr>\n",
       "    <tr>\n",
       "      <th>X6 longitude</th>\n",
       "      <td>-0.040323</td>\n",
       "      <td>-0.048684</td>\n",
       "      <td>-0.806246</td>\n",
       "      <td>0.449081</td>\n",
       "      <td>0.412534</td>\n",
       "      <td>1.000000</td>\n",
       "      <td>0.523148</td>\n",
       "    </tr>\n",
       "    <tr>\n",
       "      <th>Y house price of unit area</th>\n",
       "      <td>0.088193</td>\n",
       "      <td>-0.210716</td>\n",
       "      <td>-0.673538</td>\n",
       "      <td>0.571746</td>\n",
       "      <td>0.546235</td>\n",
       "      <td>0.523148</td>\n",
       "      <td>1.000000</td>\n",
       "    </tr>\n",
       "  </tbody>\n",
       "</table>\n",
       "</div>"
      ],
      "text/plain": [
       "                                        X1 transaction date  X2 house age  \\\n",
       "X1 transaction date                                1.000000      0.017877   \n",
       "X2 house age                                       0.017877      1.000000   \n",
       "X3 distance to the nearest MRT station             0.059727      0.025869   \n",
       "X4 number of convenience stores                    0.013016      0.049125   \n",
       "X5 latitude                                        0.036945      0.054129   \n",
       "X6 longitude                                      -0.040323     -0.048684   \n",
       "Y house price of unit area                         0.088193     -0.210716   \n",
       "\n",
       "                                        X3 distance to the nearest MRT station  \\\n",
       "X1 transaction date                                                   0.059727   \n",
       "X2 house age                                                          0.025869   \n",
       "X3 distance to the nearest MRT station                                1.000000   \n",
       "X4 number of convenience stores                                      -0.602337   \n",
       "X5 latitude                                                          -0.590571   \n",
       "X6 longitude                                                         -0.806246   \n",
       "Y house price of unit area                                           -0.673538   \n",
       "\n",
       "                                        X4 number of convenience stores  \\\n",
       "X1 transaction date                                            0.013016   \n",
       "X2 house age                                                   0.049125   \n",
       "X3 distance to the nearest MRT station                        -0.602337   \n",
       "X4 number of convenience stores                                1.000000   \n",
       "X5 latitude                                                    0.442396   \n",
       "X6 longitude                                                   0.449081   \n",
       "Y house price of unit area                                     0.571746   \n",
       "\n",
       "                                        X5 latitude  X6 longitude  \\\n",
       "X1 transaction date                        0.036945     -0.040323   \n",
       "X2 house age                               0.054129     -0.048684   \n",
       "X3 distance to the nearest MRT station    -0.590571     -0.806246   \n",
       "X4 number of convenience stores            0.442396      0.449081   \n",
       "X5 latitude                                1.000000      0.412534   \n",
       "X6 longitude                               0.412534      1.000000   \n",
       "Y house price of unit area                 0.546235      0.523148   \n",
       "\n",
       "                                        Y house price of unit area  \n",
       "X1 transaction date                                       0.088193  \n",
       "X2 house age                                             -0.210716  \n",
       "X3 distance to the nearest MRT station                   -0.673538  \n",
       "X4 number of convenience stores                           0.571746  \n",
       "X5 latitude                                               0.546235  \n",
       "X6 longitude                                              0.523148  \n",
       "Y house price of unit area                                1.000000  "
      ]
     },
     "execution_count": 25,
     "metadata": {},
     "output_type": "execute_result"
    }
   ],
   "source": [
    "df_corr"
   ]
  },
  {
   "cell_type": "code",
   "execution_count": 26,
   "id": "027a6497",
   "metadata": {},
   "outputs": [
    {
     "data": {
      "text/plain": [
       "array([2012.917, 2013.583, 2013.5  , 2012.833, 2012.667, 2013.417,\n",
       "       2013.083, 2013.333, 2013.25 , 2012.75 , 2013.   , 2013.167])"
      ]
     },
     "execution_count": 26,
     "metadata": {},
     "output_type": "execute_result"
    }
   ],
   "source": [
    "df['X1 transaction date'].unique()"
   ]
  },
  {
   "cell_type": "code",
   "execution_count": 27,
   "id": "a452bac1",
   "metadata": {},
   "outputs": [
    {
     "data": {
      "text/plain": [
       "2013.417    58\n",
       "2013.500    47\n",
       "2013.083    46\n",
       "2012.917    37\n",
       "2013.250    32\n",
       "2012.833    31\n",
       "2012.667    30\n",
       "2013.333    29\n",
       "2013.000    28\n",
       "2012.750    27\n",
       "2013.167    25\n",
       "2013.583    23\n",
       "Name: X1 transaction date, dtype: int64"
      ]
     },
     "execution_count": 27,
     "metadata": {},
     "output_type": "execute_result"
    }
   ],
   "source": [
    "df['X1 transaction date'].value_counts()"
   ]
  },
  {
   "cell_type": "code",
   "execution_count": 28,
   "id": "1aa943c3",
   "metadata": {
    "scrolled": false
   },
   "outputs": [
    {
     "name": "stdout",
     "output_type": "stream",
     "text": [
      "\u001b[1m\u001b[32mX1 transaction date\u001b[0m\n",
      "[2012.917 2013.583 2013.5   2012.833 2012.667 2013.417 2013.083 2013.333\n",
      " 2013.25  2012.75  2013.    2013.167]\n",
      "\u001b[1m\u001b[32mX2 house age\u001b[0m\n",
      "[32.  13.3  5.   7.1 34.5 20.3 31.7 17.9 34.8  6.3 13.  20.4 13.2 35.7\n",
      "  0.  17.7 16.9  1.5  4.5 10.5 14.7 10.1 39.6 29.3  3.1 10.4 19.2 25.9\n",
      " 29.6 37.9 16.5 15.4 13.9 12.  16.2 13.6 16.8 36.1 34.4  2.7 36.6 21.7\n",
      " 35.9 24.2 29.4 31.3 32.1 16.1 33.6  3.5 30.3 11.   5.3 17.2  2.6 17.5\n",
      " 40.1  1.   8.5 30.4 12.5  6.6 35.5 32.5 13.8  6.8 12.3 20.5 38.2 18.\n",
      " 11.8 30.8 25.3 15.1  1.8  8.9 23.   9.1 20.6 31.9 40.9  8.   6.4 28.4\n",
      " 16.4 12.7  1.1 32.7 12.2 31.4  4.   8.1 33.3  9.9 14.8 30.6 30.9 16.6\n",
      " 31.5 38.6  3.8 41.3 38.5 26.6 33.4 18.9 11.4 10.  12.9  5.1 19.8 11.9\n",
      "  2.1  3.2 34.9 35.8  4.9  6.5 30.7 11.6 15.5 16.  13.7 28.2 27.6  8.4\n",
      " 24.   3.6  4.3 30.2 33.  13.1 14.  26.9 13.5 17.  14.1 20.9 16.3 35.3\n",
      " 43.8  9.7 15.2 22.8 34.  18.2 17.4 38.3 15.6 12.8 22.2 11.5  5.2 17.6\n",
      "  6.2 18.1 37.8 28.  37.2  9.  32.4 31.  27.1 39.7  2.  32.8  4.8  7.5\n",
      " 19.  39.2  5.9 14.6 17.3 15.9  3.9 32.6 15.7 17.8 34.7 10.8 27.5 19.1\n",
      " 21.2  2.3  4.7 33.5 15.  30.1 37.7  3.4 12.6 26.4 16.7 33.2  2.5 38.\n",
      " 20.  14.4 10.3 21.3 35.4  8.3  3.7 34.6 28.6 12.4  4.1 25.6 39.8  7.8\n",
      " 30.  27.3  1.7  5.7  4.6 18.4  5.6 32.9 41.4 17.1 32.3 14.2 20.2 33.9\n",
      "  5.4 37.3 29.1 18.3 42.7 37.1 26.8  7.6  1.9 18.5 18.8]\n",
      "\u001b[1m\u001b[32mX3 distance to the nearest MRT station\u001b[0m\n",
      "[  84.87882  561.9845   390.5684  2175.03     623.4731   287.6025\n",
      " 5512.038   1783.18     405.2134    90.45606  492.2313  2469.645\n",
      " 1164.838    579.2083   292.9978   350.8515   368.1363    23.38284\n",
      " 2275.877    279.1726  1360.139    480.6977  1487.868    383.8624\n",
      "  276.449    557.478    451.2438  4519.69     769.4034   488.5727\n",
      "  323.655    205.367   4079.418   1935.009    577.9615   289.3248\n",
      " 4082.015   4066.587    519.4617   512.7871   533.4762   488.8193\n",
      "  463.9623   640.7391  4605.749   4510.359    512.5487  1758.406\n",
      " 1438.579   1160.632    371.2495    56.47425  336.0532  1931.207\n",
      "  259.6607  2175.877    995.7554   123.7429   193.5845   104.8101\n",
      "  464.223    424.5442   379.5575   616.4004  2185.128    552.4371\n",
      " 1414.837    377.7956   150.9347  2707.392    383.2805   338.9679\n",
      " 1455.798   1406.43    3947.945    274.0144  1402.016   1146.329\n",
      "  167.5989   617.4424   964.7496   170.1289   208.3905   392.4459\n",
      "  189.5181   592.5006  2147.376    196.6172  2102.427    393.2606\n",
      "  143.8383   737.9161  6396.283   4197.349   1583.722    414.9476\n",
      "  185.4296   804.6897   124.9912   216.8329   535.527    482.7581\n",
      "  373.3937   186.9686  1009.235    319.0708   942.4664  1559.827\n",
      "  640.6071   489.8821  3780.59     179.4538   170.7311   387.7721\n",
      "  376.1709  1264.73     815.9314    49.66105 1236.564    330.0854\n",
      "  515.1122  1962.628   4527.687    401.8807   432.0385   472.1745\n",
      " 4573.779    181.0766  1144.436    438.8513  4449.27     201.8939\n",
      " 2615.465   1447.286   3078.176    190.0392   616.5735   750.0704\n",
      "   57.58945  421.479   3771.895    461.1016   707.9067   126.7286\n",
      "  157.6052   451.6419   642.6985  1449.722    665.0636   175.6294\n",
      " 1805.665    383.7129   590.9292   372.6242   529.7771   186.5101\n",
      "  431.1114   324.9419   265.0609  3171.329   1156.412   4074.736\n",
      " 4412.765    333.3679  2216.612    250.631    373.8389   732.8528\n",
      "  837.7233  1712.632   2077.39     204.1705   639.6198   389.8219\n",
      " 1055.067   6306.153    424.7132  1159.454   1735.595    329.9747\n",
      "  339.2289   444.1334  1485.097   2288.011    493.657    252.5822\n",
      "  394.0173  1554.25     184.3302  1978.671    718.2937   323.6912\n",
      "  490.3446   395.6747   335.5273  2179.59     567.0349   121.7262\n",
      "  156.2442   461.7848   439.7105  1626.083    169.9803  3079.89\n",
      " 1643.499    537.7971   318.5292  1756.411    752.7669   272.6783\n",
      "  187.4823   197.1338   757.3377  1497.713   1156.777    617.7134\n",
      " 1013.341    337.6016  1867.233    600.8604   258.186    270.8895\n",
      "  563.2854  3085.17    6488.021   2180.245   2674.961    211.4473\n",
      " 2408.993     87.30222  281.205    967.4      109.9455   614.1394\n",
      " 2261.432   1801.544   1828.319    312.8963  1157.988   1717.193\n",
      "  587.8877   132.5469  3529.564    506.1144    82.88643 2103.555\n",
      " 2251.938    122.3619   377.8302  1939.749    443.802   4136.271\n",
      "  918.6357   161.942    130.9945   372.1386  2175.744    390.9696 ]\n",
      "\u001b[1m\u001b[32mX4 number of convenience stores\u001b[0m\n",
      "[10  5  3  7  6  1  9  4  2  8  0]\n",
      "\u001b[1m\u001b[32mX5 latitude\u001b[0m\n",
      "[24.98298 24.98746 24.97937 24.96305 24.97933 24.98042 24.95095 24.96731\n",
      " 24.97349 24.97433 24.96515 24.96108 24.99156 24.9824  24.97744 24.97544\n",
      " 24.9675  24.96772 24.96314 24.97528 24.95204 24.97353 24.97542 24.98085\n",
      " 24.95593 24.97419 24.97563 24.94826 24.98281 24.97841 24.98419 25.01459\n",
      " 24.96386 24.97201 24.98203 24.94155 24.94297 24.98748 24.97445 24.97015\n",
      " 24.9703  24.94684 24.94925 24.974   24.95402 24.94968 24.97254 24.95744\n",
      " 24.95776 24.96365 24.97585 24.96303 24.97635 24.96571 24.96674 24.97964\n",
      " 24.97587 24.98343 24.97723 24.96322 24.97598 24.95182 24.96427 24.96725\n",
      " 24.96056 24.96735 24.96853 24.9512  24.98573 24.94783 24.9748  24.98569\n",
      " 24.9492  24.9663  24.97746 24.98872 24.97371 24.95618 24.96398 24.97707\n",
      " 24.9726  24.96299 24.97701 24.96044 24.96172 24.98155 24.98092 24.94375\n",
      " 24.93885 24.96622 24.98199 24.9711  24.97838 24.98086 24.9866  24.96604\n",
      " 24.96357 24.96495 24.97843 24.97213 24.97017 24.93293 24.96719 24.98118\n",
      " 24.95418 24.94883 24.97886 24.95836 24.97694 24.97408 24.95468 24.94741\n",
      " 24.98326 24.9805  24.97005 24.94867 24.97697 24.99176 24.97493 24.94898\n",
      " 24.98489 24.95495 24.97285 24.95464 24.97945 24.98246 24.93363 24.95425\n",
      " 24.981   24.96881 24.96628 24.96945 24.97559 24.97289 24.97503 24.97347\n",
      " 24.98672 24.972   24.97153 24.98102 24.97703 24.98123 24.97814 24.98059\n",
      " 25.00115 24.9489  24.94235 24.95032 24.98016 24.96007 24.96606 24.98322\n",
      " 24.97668 24.96334 24.96412 24.98236 24.97258 24.96211 24.95743 24.97429\n",
      " 24.9496  24.96464 24.98254 24.97519 24.97501 24.97073 24.95885 24.96968\n",
      " 24.9746  24.97305 24.97026 24.96581 24.98674 24.97509 24.97217 24.95674\n",
      " 24.9796  24.97003 24.98178 24.96696 24.97229 24.97161 24.97369 24.9546\n",
      " 24.95394 24.97425 24.97071 24.9832  24.97795 24.95562 24.97388 24.97631\n",
      " 24.97538 24.94935 24.97577 24.99006 24.96431 24.98407 24.96871 24.96867\n",
      " 24.97281 24.98223 24.998   24.95719 24.96324 24.96143 24.97417 24.95505\n",
      " 24.983   24.97345 24.98182 24.97913 24.96182 24.95153 24.95591 24.96165\n",
      " 24.96447 24.97077 24.93207 24.97845 24.96042 24.95957 24.96756 24.97151\n",
      " 24.95155 24.97927 24.95544 24.97198 24.98353 24.95663 24.97293 24.9633\n",
      " 24.97923]\n",
      "\u001b[1m\u001b[32mX6 longitude\u001b[0m\n",
      "[121.54024 121.54391 121.54245 121.51254 121.53642 121.54228 121.48458\n",
      " 121.51486 121.53372 121.5431  121.53737 121.51046 121.53406 121.54619\n",
      " 121.54458 121.53119 121.54451 121.54102 121.51151 121.54541 121.54842\n",
      " 121.53885 121.51726 121.53913 121.53797 121.54694 121.49587 121.53408\n",
      " 121.53451 121.54281 121.54243 121.51816 121.51458 121.54722 121.54348\n",
      " 121.50381 121.50342 121.53758 121.54301 121.54765 121.54494 121.53715\n",
      " 121.49578 121.49542 121.53842 121.55282 121.5175  121.53009 121.54059\n",
      " 121.53711 121.53438 121.51471 121.54516 121.54915 121.54329 121.54089\n",
      " 121.54067 121.53805 121.53762 121.53767 121.51237 121.53381 121.54887\n",
      " 121.53964 121.54252 121.50831 121.54464 121.54413 121.549   121.52758\n",
      " 121.50243 121.53059 121.5276  121.53076 121.54026 121.53299 121.53411\n",
      " 121.52984 121.53844 121.5425  121.54308 121.53561 121.51284 121.54224\n",
      " 121.51462 121.53812 121.54142 121.54739 121.47883 121.50383 121.51709\n",
      " 121.5317  121.53477 121.54039 121.54162 121.53653 121.53863 121.54082\n",
      " 121.54211 121.54951 121.54277 121.52406 121.51627 121.54647 121.51203\n",
      " 121.54269 121.53788 121.53713 121.52954 121.53464 121.53756 121.55391\n",
      " 121.54011 121.5432  121.55481 121.49628 121.5446  121.53778 121.49507\n",
      " 121.54262 121.53456 121.5273  121.49621 121.54121 121.56174 121.5173\n",
      " 121.56627 121.54312 121.54069 121.54477 121.51158 121.5399  121.54713\n",
      " 121.54196 121.5449  121.51728 121.53692 121.54271 121.52091 121.53559\n",
      " 121.54119 121.53655 121.54265 121.53743 121.5417  121.53986 121.51776\n",
      " 121.53095 121.50357 121.53932 121.51361 121.54297 121.53765 121.52518\n",
      " 121.54767 121.5167  121.51329 121.53923 121.54814 121.54273 121.54928\n",
      " 121.47516 121.53917 121.53018 121.51623 121.54395 121.53151 121.517\n",
      " 121.51359 121.54522 121.53046 121.53994 121.51642 121.54086 121.51844\n",
      " 121.53644 121.5428  121.53471 121.534   121.5414  121.51252 121.5458\n",
      " 121.53992 121.53445 121.53423 121.51668 121.52979 121.55174 121.53814\n",
      " 121.51812 121.53872 121.52981 121.54436 121.54971 121.51696 121.53475\n",
      " 121.5346  121.54063 121.51748 121.54651 121.54331 121.53265 121.53597\n",
      " 121.5155  121.47353 121.51241 121.50827 121.52999 121.55964 121.54022\n",
      " 121.54093 121.53666 121.51222 121.55254 121.51531 121.53956 121.55011\n",
      " 121.51649 121.54634 121.53981 121.51597 121.53889 121.51353 121.5423\n",
      " 121.5435  121.55387 121.53874 121.4963  121.55063 121.53966 121.51243]\n",
      "\u001b[1m\u001b[32mY house price of unit area\u001b[0m\n",
      "[ 37.9  47.3  54.8  43.1  32.1  40.3  46.7  18.8  22.1  41.4  58.1  39.3\n",
      "  23.8  34.3  50.5  70.1  37.4  42.3  47.7  29.3  51.6  24.6  47.9  38.8\n",
      "  27.   56.2  33.6  47.   57.1  25.   34.2  49.3  55.1  27.3  22.9  25.3\n",
      "  46.2  15.9  18.2  34.7  34.1  53.9  38.3  42.   61.5  13.4  13.2  44.2\n",
      "  20.7  38.9  51.7  13.7  41.9  53.5  22.6  42.4  21.3  63.2  27.7  55.\n",
      "  44.3  50.7  56.8  36.2  59.   40.8  36.3  20.   54.4  29.5  36.8  25.6\n",
      "  29.8  26.5  48.1  17.7  43.7  50.8  18.3  48.   45.4  43.2  21.8  16.1\n",
      "  41.   51.8  59.5  34.6  51.   62.2  38.2  32.9  45.7  30.5  71.   47.1\n",
      "  26.6  28.4  39.4  23.1   7.6  53.3  46.4  12.2  13.   30.6  59.6  31.3\n",
      "  32.5  45.5  57.4  48.6  62.9  60.7  37.5  30.7  39.5  42.2  20.8  46.8\n",
      "  47.4  43.5  42.5  51.4  28.9  40.1  52.2  45.1  39.7  48.5  44.7  40.9\n",
      "  15.6  35.6  57.8  39.6  11.6  55.5  55.2  73.6  43.4  23.5  14.4  58.8\n",
      "  35.1  45.2  36.5  19.2  36.7  42.6  15.5  55.9  23.6  21.5  25.7  22.\n",
      "  20.5  37.8  42.7  36.6  48.2  39.1  31.6  25.5  45.9  31.5  46.1  21.4\n",
      "  44.   26.2  31.1  58.   20.9  43.8  40.2  78.3  38.5  46.   49.   12.8\n",
      "  46.6  19.   33.4  14.7  17.4  32.4  23.9  61.9  39.   40.6  29.7  28.8\n",
      "  21.7  22.3  15.   30.   13.8  52.7  25.9  43.9  63.3  24.4  53.   31.7\n",
      "  38.1  23.7  41.1  23.  117.5  40.5  49.7  34.   44.8  34.4  55.3  56.3\n",
      "  44.5  37.   24.5  28.5  16.7  36.9  35.7  23.2  38.4  29.4  50.2  24.7\n",
      "  19.1  78.   42.8  41.6  49.8  26.9  18.6  37.7  33.1  62.1  22.8  30.9\n",
      "  50.4  42.9  41.2  30.8  11.2  53.7  28.6  30.1  45.3  44.9  40.   24.8\n",
      "  42.1  41.5  49.5  69.7  12.9  67.7  38.6  35.3  31.9  32.2  37.3  35.5\n",
      "  37.2  28.1  15.4  50.   52.5  63.9]\n"
     ]
    }
   ],
   "source": [
    "for i in df.columns:\n",
    "    print(colored(i,'green',attrs=['bold']))\n",
    "    print(df[i].unique())"
   ]
  },
  {
   "cell_type": "code",
   "execution_count": 29,
   "id": "a048edb2",
   "metadata": {},
   "outputs": [
    {
     "data": {
      "text/plain": [
       "X1 transaction date                       0\n",
       "X2 house age                              0\n",
       "X3 distance to the nearest MRT station    0\n",
       "X4 number of convenience stores           0\n",
       "X5 latitude                               0\n",
       "X6 longitude                              0\n",
       "Y house price of unit area                0\n",
       "dtype: int64"
      ]
     },
     "execution_count": 29,
     "metadata": {},
     "output_type": "execute_result"
    }
   ],
   "source": [
    "df.isnull().sum()"
   ]
  },
  {
   "cell_type": "code",
   "execution_count": 30,
   "id": "380d3e34",
   "metadata": {},
   "outputs": [
    {
     "data": {
      "text/plain": [
       "X1 transaction date                       float64\n",
       "X2 house age                              float64\n",
       "X3 distance to the nearest MRT station    float64\n",
       "X4 number of convenience stores             int64\n",
       "X5 latitude                               float64\n",
       "X6 longitude                              float64\n",
       "Y house price of unit area                float64\n",
       "dtype: object"
      ]
     },
     "execution_count": 30,
     "metadata": {},
     "output_type": "execute_result"
    }
   ],
   "source": [
    "df.dtypes"
   ]
  },
  {
   "cell_type": "code",
   "execution_count": 31,
   "id": "838911a1",
   "metadata": {},
   "outputs": [],
   "source": [
    "import seaborn as sns\n",
    "import matplotlib.pyplot as plt"
   ]
  },
  {
   "cell_type": "code",
   "execution_count": 32,
   "id": "e516dfaf",
   "metadata": {},
   "outputs": [
    {
     "data": {
      "text/plain": [
       "<AxesSubplot:>"
      ]
     },
     "execution_count": 32,
     "metadata": {},
     "output_type": "execute_result"
    },
    {
     "data": {
      "image/png": "[encoded data removed]",
      "text/plain": [
       "<Figure size 720x720 with 2 Axes>"
      ]
     },
     "metadata": {
      "needs_background": "light"
     },
     "output_type": "display_data"
    }
   ],
   "source": [
    "plt.figure(figsize=(10,10))\n",
    "sns.heatmap(df_corr,annot=True)"
   ]
  },
  {
   "cell_type": "code",
   "execution_count": 33,
   "id": "c22d3462",
   "metadata": {},
   "outputs": [
    {
     "name": "stdout",
     "output_type": "stream",
     "text": [
      "(413, 7)\n",
      "(405, 7)\n"
     ]
    }
   ],
   "source": [
    "print(df.shape)\n",
    "for i in df.columns:\n",
    "    if(df[i].dtype!='O'):\n",
    "        mean_val=df[i].mean()\n",
    "        three_std=df[i].std()*3\n",
    "        upper_limit=three_std+mean_val\n",
    "        lower_limit=mean_val-three_std\n",
    "        df=df[(df[i]<=upper_limit) & (df[i]>=lower_limit)]\n",
    "print(df.shape)"
   ]
  },
  {
   "cell_type": "code",
   "execution_count": 34,
   "id": "1ffa141f",
   "metadata": {},
   "outputs": [
    {
     "data": {
      "text/html": [
       "<div>\n",
       "<style scoped>\n",
       "    .dataframe tbody tr th:only-of-type {\n",
       "        vertical-align: middle;\n",
       "    }\n",
       "\n",
       "    .dataframe tbody tr th {\n",
       "        vertical-align: top;\n",
       "    }\n",
       "\n",
       "    .dataframe thead th {\n",
       "        text-align: right;\n",
       "    }\n",
       "</style>\n",
       "<table border=\"1\" class=\"dataframe\">\n",
       "  <thead>\n",
       "    <tr style=\"text-align: right;\">\n",
       "      <th></th>\n",
       "      <th>X1 transaction date</th>\n",
       "      <th>X2 house age</th>\n",
       "      <th>X3 distance to the nearest MRT station</th>\n",
       "      <th>X4 number of convenience stores</th>\n",
       "      <th>X5 latitude</th>\n",
       "      <th>X6 longitude</th>\n",
       "      <th>Y house price of unit area</th>\n",
       "    </tr>\n",
       "  </thead>\n",
       "  <tbody>\n",
       "    <tr>\n",
       "      <th>0</th>\n",
       "      <td>2012.917</td>\n",
       "      <td>32.0</td>\n",
       "      <td>84.87882</td>\n",
       "      <td>10</td>\n",
       "      <td>24.98298</td>\n",
       "      <td>121.54024</td>\n",
       "      <td>37.9</td>\n",
       "    </tr>\n",
       "    <tr>\n",
       "      <th>2</th>\n",
       "      <td>2013.583</td>\n",
       "      <td>13.3</td>\n",
       "      <td>561.98450</td>\n",
       "      <td>5</td>\n",
       "      <td>24.98746</td>\n",
       "      <td>121.54391</td>\n",
       "      <td>47.3</td>\n",
       "    </tr>\n",
       "    <tr>\n",
       "      <th>3</th>\n",
       "      <td>2013.500</td>\n",
       "      <td>13.3</td>\n",
       "      <td>561.98450</td>\n",
       "      <td>5</td>\n",
       "      <td>24.98746</td>\n",
       "      <td>121.54391</td>\n",
       "      <td>54.8</td>\n",
       "    </tr>\n",
       "    <tr>\n",
       "      <th>4</th>\n",
       "      <td>2012.833</td>\n",
       "      <td>5.0</td>\n",
       "      <td>390.56840</td>\n",
       "      <td>5</td>\n",
       "      <td>24.97937</td>\n",
       "      <td>121.54245</td>\n",
       "      <td>43.1</td>\n",
       "    </tr>\n",
       "    <tr>\n",
       "      <th>5</th>\n",
       "      <td>2012.667</td>\n",
       "      <td>7.1</td>\n",
       "      <td>2175.03000</td>\n",
       "      <td>3</td>\n",
       "      <td>24.96305</td>\n",
       "      <td>121.51254</td>\n",
       "      <td>32.1</td>\n",
       "    </tr>\n",
       "    <tr>\n",
       "      <th>...</th>\n",
       "      <td>...</td>\n",
       "      <td>...</td>\n",
       "      <td>...</td>\n",
       "      <td>...</td>\n",
       "      <td>...</td>\n",
       "      <td>...</td>\n",
       "      <td>...</td>\n",
       "    </tr>\n",
       "    <tr>\n",
       "      <th>409</th>\n",
       "      <td>2013.000</td>\n",
       "      <td>13.7</td>\n",
       "      <td>4082.01500</td>\n",
       "      <td>0</td>\n",
       "      <td>24.94155</td>\n",
       "      <td>121.50381</td>\n",
       "      <td>15.4</td>\n",
       "    </tr>\n",
       "    <tr>\n",
       "      <th>410</th>\n",
       "      <td>2012.667</td>\n",
       "      <td>5.6</td>\n",
       "      <td>90.45606</td>\n",
       "      <td>9</td>\n",
       "      <td>24.97433</td>\n",
       "      <td>121.54310</td>\n",
       "      <td>50.0</td>\n",
       "    </tr>\n",
       "    <tr>\n",
       "      <th>411</th>\n",
       "      <td>2013.250</td>\n",
       "      <td>18.8</td>\n",
       "      <td>390.96960</td>\n",
       "      <td>7</td>\n",
       "      <td>24.97923</td>\n",
       "      <td>121.53986</td>\n",
       "      <td>40.6</td>\n",
       "    </tr>\n",
       "    <tr>\n",
       "      <th>412</th>\n",
       "      <td>2013.000</td>\n",
       "      <td>8.1</td>\n",
       "      <td>104.81010</td>\n",
       "      <td>5</td>\n",
       "      <td>24.96674</td>\n",
       "      <td>121.54067</td>\n",
       "      <td>52.5</td>\n",
       "    </tr>\n",
       "    <tr>\n",
       "      <th>413</th>\n",
       "      <td>2013.500</td>\n",
       "      <td>6.5</td>\n",
       "      <td>90.45606</td>\n",
       "      <td>9</td>\n",
       "      <td>24.97433</td>\n",
       "      <td>121.54310</td>\n",
       "      <td>63.9</td>\n",
       "    </tr>\n",
       "  </tbody>\n",
       "</table>\n",
       "<p>405 rows × 7 columns</p>\n",
       "</div>"
      ],
      "text/plain": [
       "     X1 transaction date  X2 house age  \\\n",
       "0               2012.917          32.0   \n",
       "2               2013.583          13.3   \n",
       "3               2013.500          13.3   \n",
       "4               2012.833           5.0   \n",
       "5               2012.667           7.1   \n",
       "..                   ...           ...   \n",
       "409             2013.000          13.7   \n",
       "410             2012.667           5.6   \n",
       "411             2013.250          18.8   \n",
       "412             2013.000           8.1   \n",
       "413             2013.500           6.5   \n",
       "\n",
       "     X3 distance to the nearest MRT station  X4 number of convenience stores  \\\n",
       "0                                  84.87882                               10   \n",
       "2                                 561.98450                                5   \n",
       "3                                 561.98450                                5   \n",
       "4                                 390.56840                                5   \n",
       "5                                2175.03000                                3   \n",
       "..                                      ...                              ...   \n",
       "409                              4082.01500                                0   \n",
       "410                                90.45606                                9   \n",
       "411                               390.96960                                7   \n",
       "412                               104.81010                                5   \n",
       "413                                90.45606                                9   \n",
       "\n",
       "     X5 latitude  X6 longitude  Y house price of unit area  \n",
       "0       24.98298     121.54024                        37.9  \n",
       "2       24.98746     121.54391                        47.3  \n",
       "3       24.98746     121.54391                        54.8  \n",
       "4       24.97937     121.54245                        43.1  \n",
       "5       24.96305     121.51254                        32.1  \n",
       "..           ...           ...                         ...  \n",
       "409     24.94155     121.50381                        15.4  \n",
       "410     24.97433     121.54310                        50.0  \n",
       "411     24.97923     121.53986                        40.6  \n",
       "412     24.96674     121.54067                        52.5  \n",
       "413     24.97433     121.54310                        63.9  \n",
       "\n",
       "[405 rows x 7 columns]"
      ]
     },
     "execution_count": 34,
     "metadata": {},
     "output_type": "execute_result"
    }
   ],
   "source": [
    "df"
   ]
  },
  {
   "cell_type": "code",
   "execution_count": 35,
   "id": "a224d37b",
   "metadata": {},
   "outputs": [],
   "source": [
    "from sklearn.linear_model import LinearRegression\n",
    "from sklearn.model_selection import train_test_split\n",
    "from sklearn.metrics import mean_squared_error\n",
    "from sklearn.metrics import r2_score"
   ]
  },
  {
   "cell_type": "code",
   "execution_count": 36,
   "id": "78cfa8e9",
   "metadata": {},
   "outputs": [],
   "source": [
    "y=df['Y house price of unit area']\n",
    "x=df.drop(columns=['Y house price of unit area'],axis=1)"
   ]
  },
  {
   "cell_type": "code",
   "execution_count": 37,
   "id": "2c85b070",
   "metadata": {},
   "outputs": [
    {
     "data": {
      "text/html": [
       "<div>\n",
       "<style scoped>\n",
       "    .dataframe tbody tr th:only-of-type {\n",
       "        vertical-align: middle;\n",
       "    }\n",
       "\n",
       "    .dataframe tbody tr th {\n",
       "        vertical-align: top;\n",
       "    }\n",
       "\n",
       "    .dataframe thead th {\n",
       "        text-align: right;\n",
       "    }\n",
       "</style>\n",
       "<table border=\"1\" class=\"dataframe\">\n",
       "  <thead>\n",
       "    <tr style=\"text-align: right;\">\n",
       "      <th></th>\n",
       "      <th>X1 transaction date</th>\n",
       "      <th>X2 house age</th>\n",
       "      <th>X3 distance to the nearest MRT station</th>\n",
       "      <th>X4 number of convenience stores</th>\n",
       "      <th>X5 latitude</th>\n",
       "      <th>X6 longitude</th>\n",
       "    </tr>\n",
       "  </thead>\n",
       "  <tbody>\n",
       "    <tr>\n",
       "      <th>0</th>\n",
       "      <td>2012.917</td>\n",
       "      <td>32.0</td>\n",
       "      <td>84.87882</td>\n",
       "      <td>10</td>\n",
       "      <td>24.98298</td>\n",
       "      <td>121.54024</td>\n",
       "    </tr>\n",
       "    <tr>\n",
       "      <th>2</th>\n",
       "      <td>2013.583</td>\n",
       "      <td>13.3</td>\n",
       "      <td>561.98450</td>\n",
       "      <td>5</td>\n",
       "      <td>24.98746</td>\n",
       "      <td>121.54391</td>\n",
       "    </tr>\n",
       "    <tr>\n",
       "      <th>3</th>\n",
       "      <td>2013.500</td>\n",
       "      <td>13.3</td>\n",
       "      <td>561.98450</td>\n",
       "      <td>5</td>\n",
       "      <td>24.98746</td>\n",
       "      <td>121.54391</td>\n",
       "    </tr>\n",
       "    <tr>\n",
       "      <th>4</th>\n",
       "      <td>2012.833</td>\n",
       "      <td>5.0</td>\n",
       "      <td>390.56840</td>\n",
       "      <td>5</td>\n",
       "      <td>24.97937</td>\n",
       "      <td>121.54245</td>\n",
       "    </tr>\n",
       "    <tr>\n",
       "      <th>5</th>\n",
       "      <td>2012.667</td>\n",
       "      <td>7.1</td>\n",
       "      <td>2175.03000</td>\n",
       "      <td>3</td>\n",
       "      <td>24.96305</td>\n",
       "      <td>121.51254</td>\n",
       "    </tr>\n",
       "    <tr>\n",
       "      <th>...</th>\n",
       "      <td>...</td>\n",
       "      <td>...</td>\n",
       "      <td>...</td>\n",
       "      <td>...</td>\n",
       "      <td>...</td>\n",
       "      <td>...</td>\n",
       "    </tr>\n",
       "    <tr>\n",
       "      <th>409</th>\n",
       "      <td>2013.000</td>\n",
       "      <td>13.7</td>\n",
       "      <td>4082.01500</td>\n",
       "      <td>0</td>\n",
       "      <td>24.94155</td>\n",
       "      <td>121.50381</td>\n",
       "    </tr>\n",
       "    <tr>\n",
       "      <th>410</th>\n",
       "      <td>2012.667</td>\n",
       "      <td>5.6</td>\n",
       "      <td>90.45606</td>\n",
       "      <td>9</td>\n",
       "      <td>24.97433</td>\n",
       "      <td>121.54310</td>\n",
       "    </tr>\n",
       "    <tr>\n",
       "      <th>411</th>\n",
       "      <td>2013.250</td>\n",
       "      <td>18.8</td>\n",
       "      <td>390.96960</td>\n",
       "      <td>7</td>\n",
       "      <td>24.97923</td>\n",
       "      <td>121.53986</td>\n",
       "    </tr>\n",
       "    <tr>\n",
       "      <th>412</th>\n",
       "      <td>2013.000</td>\n",
       "      <td>8.1</td>\n",
       "      <td>104.81010</td>\n",
       "      <td>5</td>\n",
       "      <td>24.96674</td>\n",
       "      <td>121.54067</td>\n",
       "    </tr>\n",
       "    <tr>\n",
       "      <th>413</th>\n",
       "      <td>2013.500</td>\n",
       "      <td>6.5</td>\n",
       "      <td>90.45606</td>\n",
       "      <td>9</td>\n",
       "      <td>24.97433</td>\n",
       "      <td>121.54310</td>\n",
       "    </tr>\n",
       "  </tbody>\n",
       "</table>\n",
       "<p>405 rows × 6 columns</p>\n",
       "</div>"
      ],
      "text/plain": [
       "     X1 transaction date  X2 house age  \\\n",
       "0               2012.917          32.0   \n",
       "2               2013.583          13.3   \n",
       "3               2013.500          13.3   \n",
       "4               2012.833           5.0   \n",
       "5               2012.667           7.1   \n",
       "..                   ...           ...   \n",
       "409             2013.000          13.7   \n",
       "410             2012.667           5.6   \n",
       "411             2013.250          18.8   \n",
       "412             2013.000           8.1   \n",
       "413             2013.500           6.5   \n",
       "\n",
       "     X3 distance to the nearest MRT station  X4 number of convenience stores  \\\n",
       "0                                  84.87882                               10   \n",
       "2                                 561.98450                                5   \n",
       "3                                 561.98450                                5   \n",
       "4                                 390.56840                                5   \n",
       "5                                2175.03000                                3   \n",
       "..                                      ...                              ...   \n",
       "409                              4082.01500                                0   \n",
       "410                                90.45606                                9   \n",
       "411                               390.96960                                7   \n",
       "412                               104.81010                                5   \n",
       "413                                90.45606                                9   \n",
       "\n",
       "     X5 latitude  X6 longitude  \n",
       "0       24.98298     121.54024  \n",
       "2       24.98746     121.54391  \n",
       "3       24.98746     121.54391  \n",
       "4       24.97937     121.54245  \n",
       "5       24.96305     121.51254  \n",
       "..           ...           ...  \n",
       "409     24.94155     121.50381  \n",
       "410     24.97433     121.54310  \n",
       "411     24.97923     121.53986  \n",
       "412     24.96674     121.54067  \n",
       "413     24.97433     121.54310  \n",
       "\n",
       "[405 rows x 6 columns]"
      ]
     },
     "execution_count": 37,
     "metadata": {},
     "output_type": "execute_result"
    }
   ],
   "source": [
    "x"
   ]
  },
  {
   "cell_type": "code",
   "execution_count": 38,
   "id": "f2bd5319",
   "metadata": {},
   "outputs": [
    {
     "data": {
      "text/plain": [
       "0      37.9\n",
       "2      47.3\n",
       "3      54.8\n",
       "4      43.1\n",
       "5      32.1\n",
       "       ... \n",
       "409    15.4\n",
       "410    50.0\n",
       "411    40.6\n",
       "412    52.5\n",
       "413    63.9\n",
       "Name: Y house price of unit area, Length: 405, dtype: float64"
      ]
     },
     "execution_count": 38,
     "metadata": {},
     "output_type": "execute_result"
    }
   ],
   "source": [
    "y"
   ]
  },
  {
   "cell_type": "code",
   "execution_count": 39,
   "id": "b3e95e17",
   "metadata": {},
   "outputs": [],
   "source": [
    "x_train,x_test,y_train,y_test=train_test_split(x,y,test_size=0.2)"
   ]
  },
  {
   "cell_type": "code",
   "execution_count": 40,
   "id": "a23ea38f",
   "metadata": {},
   "outputs": [
    {
     "name": "stdout",
     "output_type": "stream",
     "text": [
      "(324, 6) \n",
      " (81, 6) \n",
      " (324,) \n",
      " (81,)\n"
     ]
    }
   ],
   "source": [
    "print(x_train.shape,'\\n',x_test.shape,'\\n',y_train.shape,'\\n',y_test.shape)"
   ]
  },
  {
   "cell_type": "code",
   "execution_count": 41,
   "id": "71b05fa0",
   "metadata": {},
   "outputs": [],
   "source": [
    "model=LinearRegression()"
   ]
  },
  {
   "cell_type": "code",
   "execution_count": 42,
   "id": "ea37d31a",
   "metadata": {},
   "outputs": [
    {
     "data": {
      "text/plain": [
       "LinearRegression()"
      ]
     },
     "execution_count": 42,
     "metadata": {},
     "output_type": "execute_result"
    }
   ],
   "source": [
    "model.fit(x_train,y_train)"
   ]
  },
  {
   "cell_type": "code",
   "execution_count": 43,
   "id": "6d9907f2",
   "metadata": {},
   "outputs": [],
   "source": [
    "predict_ytrain=model.predict(x_train)"
   ]
  },
  {
   "cell_type": "code",
   "execution_count": 44,
   "id": "a5b0697e",
   "metadata": {},
   "outputs": [],
   "source": [
    "r2=r2_score(y_train,predict_ytrain)"
   ]
  },
  {
   "cell_type": "code",
   "execution_count": 45,
   "id": "913a1291",
   "metadata": {},
   "outputs": [
    {
     "data": {
      "text/plain": [
       "0.6209330833929273"
      ]
     },
     "execution_count": 45,
     "metadata": {},
     "output_type": "execute_result"
    }
   ],
   "source": [
    "r2"
   ]
  },
  {
   "cell_type": "code",
   "execution_count": 46,
   "id": "becde363",
   "metadata": {},
   "outputs": [
    {
     "name": "stdout",
     "output_type": "stream",
     "text": [
      "Accuracy is :62.0%\n"
     ]
    }
   ],
   "source": [
    "r2=(round(r2,2)*100)\n",
    "print(f'Accuracy is :{r2}%')"
   ]
  },
  {
   "cell_type": "code",
   "execution_count": 47,
   "id": "4a86647d",
   "metadata": {},
   "outputs": [],
   "source": [
    "from sklearn.linear_model import LogisticRegression as LR"
   ]
  },
  {
   "cell_type": "code",
   "execution_count": 48,
   "id": "66e1a7c4",
   "metadata": {},
   "outputs": [],
   "source": [
    "model1=LR()"
   ]
  },
  {
   "cell_type": "code",
   "execution_count": 49,
   "id": "f1ececf0",
   "metadata": {},
   "outputs": [],
   "source": [
    "from sklearn.preprocessing import LabelEncoder\n",
    "lable=LabelEncoder()\n",
    "log_df=df.copy()\n",
    "for i in log_df:\n",
    "    log_df[i]=lable.fit_transform(log_df[i])\n",
    "# model1.fit(x_train,y_train)"
   ]
  },
  {
   "cell_type": "code",
   "execution_count": 50,
   "id": "2aa9a6a4",
   "metadata": {},
   "outputs": [],
   "source": [
    "Y=log_df['Y house price of unit area']\n",
    "X=log_df.drop(columns=['Y house price of unit area'],axis=1)"
   ]
  },
  {
   "cell_type": "code",
   "execution_count": 51,
   "id": "abfc7890",
   "metadata": {},
   "outputs": [],
   "source": [
    "train_X,test_x,train_y,test_y=train_test_split(X,Y,test_size=0.2)"
   ]
  },
  {
   "cell_type": "code",
   "execution_count": 52,
   "id": "54e59bd5",
   "metadata": {},
   "outputs": [
    {
     "data": {
      "text/plain": [
       "LogisticRegression()"
      ]
     },
     "execution_count": 52,
     "metadata": {},
     "output_type": "execute_result"
    }
   ],
   "source": [
    "model1.fit(train_X,train_y)"
   ]
  },
  {
   "cell_type": "code",
   "execution_count": 53,
   "id": "335ed761",
   "metadata": {},
   "outputs": [],
   "source": [
    "predict_y=model1.predict(train_X)"
   ]
  },
  {
   "cell_type": "code",
   "execution_count": 54,
   "id": "09da2eeb",
   "metadata": {},
   "outputs": [],
   "source": [
    "r2=r2_score(train_y,predict_y)"
   ]
  },
  {
   "cell_type": "code",
   "execution_count": 55,
   "id": "5b836d04",
   "metadata": {},
   "outputs": [
    {
     "data": {
      "text/plain": [
       "0.7417969121007346"
      ]
     },
     "execution_count": 55,
     "metadata": {},
     "output_type": "execute_result"
    }
   ],
   "source": [
    "r2"
   ]
  },
  {
   "cell_type": "code",
   "execution_count": 56,
   "id": "e24005e6",
   "metadata": {},
   "outputs": [],
   "source": [
    "from sklearn.metrics import accuracy_score as AS"
   ]
  },
  {
   "cell_type": "code",
   "execution_count": 57,
   "id": "2138fa14",
   "metadata": {},
   "outputs": [
    {
     "name": "stdout",
     "output_type": "stream",
     "text": [
      "0.36419753086419754\n"
     ]
    }
   ],
   "source": [
    "print(AS(train_y,predict_y))"
   ]
  },
  {
   "cell_type": "code",
   "execution_count": null,
   "id": "e093c781",
   "metadata": {},
   "outputs": [],
   "source": []
  }
 ],
 "metadata": {
  "kernelspec": {
   "display_name": "Python 3",
   "language": "python",
   "name": "python3"
  },
  "language_info": {
   "codemirror_mode": {
    "name": "ipython",
    "version": 3
   },
   "file_extension": ".py",
   "mimetype": "text/x-python",
   "name": "python",
   "nbconvert_exporter": "python",
   "pygments_lexer": "ipython3",
   "version": "3.8.8"
  }
 },
 "nbformat": 4,
 "nbformat_minor": 5
}
